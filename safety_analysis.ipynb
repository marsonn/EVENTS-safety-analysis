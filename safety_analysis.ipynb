{
 "cells": [
  {
   "cell_type": "code",
   "execution_count": null,
   "id": "44782178",
   "metadata": {},
   "outputs": [],
   "source": [
    "from read_scenario import parse_scenario\n",
    "\n",
    "scenario = parse_scenario(\"D:/Ergebnisse/Hi-Drive/Daten/Tasc_edge_cases/TASCinHiDriveformatUPDATE2/updated/SN_1300746.json\")\n",
    "\n",
    "print(\"Mean ego velocity:\", scenario[\"ego\"][\"velocity\"].mean())"
   ]
  },
  {
   "cell_type": "markdown",
   "id": "f98649d4",
   "metadata": {},
   "source": []
  }
 ],
 "metadata": {
  "language_info": {
   "name": "python"
  }
 },
 "nbformat": 4,
 "nbformat_minor": 5
}
