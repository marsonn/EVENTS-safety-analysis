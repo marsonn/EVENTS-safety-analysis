{
 "cells": [
  {
   "cell_type": "markdown",
   "id": "3e09aefe",
   "metadata": {},
   "source": [
    "# Scenario Parser Tutorial\n",
    "\n",
    "This notebook shows how to:\n",
    "- Parse multiple scenario JSON files into a clear Python structure.\n",
    "- Organize ego vehicle and dynamic object data.\n",
    "- Quickly plot quantities such as velocity or acceleration over time.\n",
    "\n",
    "We will:\n",
    "1. Import required libraries.\n",
    "2. Define a parser for single and multiple scenario JSON files.\n",
    "3. Explain the dictionary structure returned by the parser.\n",
    "4. Show example usage, including plotting ego velocity.\n",
    "\n",
    "Important links:\n",
    "- Hi-Drive DSDB: https://hi-drive-dsdb.ika.rwth-aachen.de/\n",
    "    - Register via e-mail\n",
    "    - Log in here to get to the scenarios: https://hi-drive-dsdb.ika.rwth-aachen.de/scenarios \n",
    "    - Filter for scenario_type: \"Crossing Interacting with a Bicycle/Vehicle Coming from Left\" and \"Crossing Interacting with a Bicycle/Vehicle Coming from Right\"\n",
    "    - Download and store the data\n"
   ]
  },
  {
   "cell_type": "code",
   "execution_count": 13,
   "id": "23c31722",
   "metadata": {},
   "outputs": [],
   "source": [
    "import os\n",
    "import json\n",
    "import numpy as np\n",
    "from glob import glob\n",
    "import matplotlib.pyplot as plt"
   ]
  },
  {
   "cell_type": "markdown",
   "id": "29f69081",
   "metadata": {},
   "source": [
    "## Parser Functions\n",
    "\n",
    "We define two functions:\n",
    "- **`parse_scenario(json_file)`**: parses a single JSON file.\n",
    "- **`parse_scenarios_from_folder(folder_path)`**: parses all JSON files in a folder and groups them by driving mode (manual or automated).\n",
    "\n",
    "Each parser extracts:\n",
    "- **Scenario tags** (meta-information).\n",
    "- **Ego vehicle data**: time, velocity, positions, accelerations, and their absolute values.\n",
    "- **Dynamic objects data**: time, velocity, positions, accelerations, and their absolute values.\n",
    "\n"
   ]
  },
  {
   "cell_type": "code",
   "execution_count": 14,
   "id": "40cbc0f7",
   "metadata": {},
   "outputs": [],
   "source": [
    "def parse_scenario(scenario_data: dict):\n",
    "\n",
    "    # Scenrio tags\n",
    "    scenario_tags = scenario_data.get(\"scenario_tags\", {})\n",
    "\n",
    "    # Driving mode\n",
    "    driving_mode = \"manual\"\n",
    "    if scenario_data[\"scenario_tags\"][\"source\"] == \"Hi-Drive\":\n",
    "        driving_mode = \"automated\"\n",
    "\n",
    "    # Ego dynamics\n",
    "    ego_times = np.array([step[\"file_time\"] for step in scenario_data[\"ego_vehicle_dynamics\"]])\n",
    "    ego_velocities = np.array([step[\"velocity\"] for step in scenario_data[\"ego_vehicle_dynamics\"]])\n",
    "    ego_positions = np.array([(step[\"x\"], step[\"y\"]) for step in scenario_data[\"ego_vehicle_dynamics\"]])\n",
    "    ego_accelerations = np.array([(step[\"ax\"], step[\"ay\"]) for step in scenario_data[\"ego_vehicle_dynamics\"]])\n",
    "    ego_abs_acceleration = np.array([np.sign(step[\"ax\"])*np.sqrt(step[\"ax\"]**2 + step[\"ay\"]**2) for step in scenario_data[\"ego_vehicle_dynamics\"]])\n",
    "    ego_heading_angle = np.array([step[\"heading_angle\"] for step in scenario_data[\"ego_vehicle_dynamics\"]])\n",
    "    ego_yaw_rate = np.array([step[\"yaw_rate\"] for step in scenario_data[\"ego_vehicle_dynamics\"]])\n",
    "\n",
    "    # Dynamic objects\n",
    "    dynamic_objects = {}\n",
    "    for obj in scenario_data.get(\"dynamic_objects\", []):\n",
    "        if obj[\"abs_velocity\"] > 0:\n",
    "            obj_id = obj[\"internal_id\"]\n",
    "            if obj_id not in dynamic_objects:\n",
    "                dynamic_objects[obj_id] = {\n",
    "                    \"time\": [],\n",
    "                    \"velocity\": [],\n",
    "                    \"position\": [],\n",
    "                    \"acceleration\": [],\n",
    "                    \"acceleration_abs\": [],\n",
    "                    \"rel_position\": [],\n",
    "                    \"rel_velocity\": [],\n",
    "                    \"length\": [],\n",
    "                    \"width\": [],\n",
    "                }\n",
    "            dynamic_objects[obj_id][\"time\"].append(obj[\"file_time\"])\n",
    "            dynamic_objects[obj_id][\"velocity\"].append(obj[\"abs_velocity\"])\n",
    "            dynamic_objects[obj_id][\"position\"].append((obj[\"x\"], obj[\"y\"]))\n",
    "            dynamic_objects[obj_id][\"acceleration\"].append((obj[\"ax\"], obj[\"ay\"]))\n",
    "            dynamic_objects[obj_id][\"acceleration_abs\"].append(np.sign(obj[\"ax\"])*np.sqrt(obj[\"ax\"]**2 + obj[\"ay\"]**2))\n",
    "            dynamic_objects[obj_id][\"rel_position\"].append((obj[\"rel_position_x\"], obj[\"rel_position_y\"]))\n",
    "            dynamic_objects[obj_id][\"rel_velocity\"].append((obj[\"rel_velocity_x\"], obj[\"rel_velocity_y\"]))\n",
    "            dynamic_objects[obj_id][\"length\"].append(obj[\"length\"])\n",
    "            dynamic_objects[obj_id][\"width\"].append(obj[\"width\"])\n",
    "\n",
    "    # Convert lists to arrays\n",
    "    for obj_id, obj_data in dynamic_objects.items():\n",
    "        dynamic_objects[obj_id] = {\n",
    "            \"time\": np.array(obj_data[\"time\"]),\n",
    "            \"velocity\": np.array(obj_data[\"velocity\"]),\n",
    "            \"position\": np.array(obj_data[\"position\"]),\n",
    "            \"acceleration\": np.array(obj_data[\"acceleration\"]),\n",
    "            \"acceleration_abs\": np.array(obj_data[\"acceleration_abs\"]),\n",
    "            \"rel_position\": np.array(obj_data[\"rel_position\"]),\n",
    "            \"rel_velocity\": np.array(obj_data[\"rel_velocity\"]),\n",
    "            \"length\": np.array(obj_data[\"length\"]),\n",
    "            \"width\": np.array(obj_data[\"width\"]),\n",
    "        },\n",
    "        obj_velocities = np.array(obj_data[\"velocity\"])\n",
    "\n",
    "    return {\n",
    "        \"scenario_tags\": scenario_tags,\n",
    "        \"mean ego velocity\": ego_velocities.mean(),\n",
    "        \"ego\": {\n",
    "            \"time\": ego_times,\n",
    "            \"velocity\": ego_velocities,\n",
    "            \"position\": ego_positions,\n",
    "            \"acceleration\": ego_accelerations,\n",
    "            \"acceleration_abs\": ego_abs_acceleration,\n",
    "            \"heading_angle\": ego_heading_angle,\n",
    "            \"yaw_rate\": ego_yaw_rate,\n",
    "        },\n",
    "        \"dynamic_objects\": dynamic_objects,\n",
    "        \"mean object velocity\": obj_velocities.mean() if dynamic_objects else 0,\n",
    "    }, driving_mode\n",
    "\n",
    "def parse_scenarios_from_folder(folder_path: str):\n",
    "\n",
    "    scenarios = {\"manual\": [], \"automated\": []}\n",
    "\n",
    "    json_files = glob(os.path.join(folder_path, \"*.json\"))\n",
    "    \n",
    "    for file_path in json_files:\n",
    "        with open(file_path, \"r\") as f:\n",
    "            data = json.load(f)\n",
    "        for scenario_data in data:\n",
    "            parsed_scenario, driving_mode = parse_scenario(scenario_data)\n",
    "            scenarios[driving_mode].append(parsed_scenario)\n",
    "\n",
    "    return scenarios\n"
   ]
  },
  {
   "cell_type": "markdown",
   "id": "3c92dd9d",
   "metadata": {},
   "source": [
    "## Dictionary Structure\n",
    "\n",
    "The parser creates a nested dictionary for easy access to all scenario data.  \n",
    "It separates **manual** and **manual** driving modes automatically and organizes information like this:\n",
    "\n",
    "```text\n",
    "scenarios = {\n",
    "    \"automated\": [\n",
    "        \"mean_ego_velocity\": float,\n",
    "        \"scenario_tags\": {...},\n",
    "        \"ego\": {\n",
    "            \"time\": np.array([...]),\n",
    "            \"velocity\": np.array([...]),\n",
    "            \"position\": np.array([(x,y), ...]),\n",
    "            \"acceleration\": np.array([(a_x,a_y), ...]),\n",
    "            \"acceleration_abs\": np.array([...]),\n",
    "            \"heading_angle\": np.array([...]),\n",
    "            \"yaw_rate\": np.array([...])\n",
    "        },\n",
    "        \"dynamic_objects\": {\n",
    "            <object_id>: {\n",
    "                \"time\": np.array([...]),\n",
    "                \"velocity\": np.array([...]),\n",
    "                \"position\": np.array([(x,y), ...]),\n",
    "                \"acceleration\": np.array([(a_x,a_y), ...]),\n",
    "                \"acceleration_abs\": np.array([...]),\n",
    "                \"rel_position\": np.array([(x,y), ...]),\n",
    "                \"rel_velocity\": np.array([(v_x,v_y), ...]),\n",
    "                \"length\": np.array([...]),\n",
    "                \"width\": np.array([...]),\n",
    "            }\n",
    "        }\n",
    "    ],\n",
    "    \"manual\": [ ... same structure ... ]\n",
    "}\n"
   ]
  },
  {
   "cell_type": "markdown",
   "id": "4e9085e7",
   "metadata": {},
   "source": [
    "## Example Usage\n",
    "\n",
    "Now that we have our parsing functions, we can load multiple scenario files from a folder, inspect the dictionary, and plot some quantities.\n",
    "\n",
    "In the example below, we:\n",
    "- Parse all JSON files from a folder.\n",
    "- Plot ego vehicle velocity over time for one scenario.\n",
    "- **Exchange the folder path to your location**, refer to the folder where it is, not the exact file."
   ]
  },
  {
   "cell_type": "code",
   "execution_count": null,
   "id": "fae3733a",
   "metadata": {},
   "outputs": [
    {
     "data": {
      "image/png": "[encoded data removed]",
      "text/plain": [
       "<Figure size 800x400 with 1 Axes>"
      ]
     },
     "metadata": {},
     "output_type": "display_data"
    }
   ],
   "source": [
    "# Change this to your folder path containing scenario JSON files\n",
    "folder_path = \"path/to/scenarios/FOLDER\"\n",
    "\n",
    "# Parse all scenarios\n",
    "all_scenarios = parse_scenarios_from_folder(folder_path)\n",
    "\n",
    "# Plot ego velocity for one manual scenario file (if available)\n",
    "if all_scenarios[\"manual\"]:\n",
    "    scenario = all_scenarios[\"manual\"][0]\n",
    "\n",
    "    plt.figure(figsize=(8,4))\n",
    "    plt.plot(scenario[\"ego\"][\"time\"], scenario[\"ego\"][\"velocity\"])\n",
    "    plt.xlabel(\"Time [s]\")\n",
    "    plt.ylabel(\"Velocity [m/s]\")\n",
    "    plt.title(f\"Ego velocity over time\")\n",
    "    plt.grid(True)\n",
    "    plt.show()"
   ]
  },
  {
   "cell_type": "markdown",
   "id": "df91ce18",
   "metadata": {},
   "source": [
    "You can also aggregate results across multiple scenarios to get an impression of general behaviour.\n",
    "\n",
    "Do sanity checks of what you see! Data always comes with imprecisions, noise or errors. Find measures against it."
   ]
  },
  {
   "cell_type": "code",
   "execution_count": null,
   "id": "f879510f",
   "metadata": {},
   "outputs": [
    {
     "name": "stdout",
     "output_type": "stream",
     "text": [
      "[np.float64(-3.0511911679906305), np.float64(-3.4334596792730614), np.float64(-2.498040701936847), np.float64(-5.403581293798962), np.float64(-4.249664443973442), np.float64(-2.5160660781254336), np.float64(-7.809894795130934), np.float64(-11.139464776991714), np.float64(-4.857875386619758), np.float64(-8.58947646934093), np.float64(-5.931860830803674), np.float64(-4.242836896632089), np.float64(-2.4980300874544863), np.float64(-25.16780755051357), np.float64(-2.498057929247406), np.float64(-4.195584409028673), np.float64(-2.4980401591814507), np.float64(-3.413389987281684), np.float64(-11.153083290274433), np.float64(-2.6404428911625204), np.float64(-7.993135013731834), np.float64(-4.8583780462664885), np.float64(-2.498039196728681), np.float64(-4.117313349721784), np.float64(-2.4980309123279545), np.float64(-7.7571704176287195), np.float64(-4.196919747925394), np.float64(-4.234369075756579), np.float64(-5.966199776112104), np.float64(-3.4398450828145624), np.float64(-2.4980414953522843), np.float64(-7.793394246847145), np.float64(-1.7809410724875716), np.float64(-7.765469310876919), np.float64(-3.926537761481802), np.float64(-5.691593746087425), np.float64(-7.9925806284020995), np.float64(-10.08674104004048), np.float64(-2.870009612716097), np.float64(-2.4980655657694895)]\n"
     ]
    },
    {
     "data": {
      "image/png": "[encoded data removed]",
      "text/plain": [
       "<Figure size 640x480 with 1 Axes>"
      ]
     },
     "metadata": {},
     "output_type": "display_data"
    }
   ],
   "source": [
    "if all_scenarios[\"automated\"]:\n",
    "    min_a = []\n",
    "    for scenario in all_scenarios[\"automated\"]:\n",
    "        min_a.append(np.min(scenario[\"ego\"][\"acceleration_abs\"]))\n",
    "    print(min_a)\n",
    "    plt.hist(min_a)\n",
    "    plt.title(f\"Minimum acceleration histogram\")\n",
    "    plt.show()\n"
   ]
  }
 ],
 "metadata": {
  "kernelspec": {
   "display_name": "venv",
   "language": "python",
   "name": "python3"
  },
  "language_info": {
   "codemirror_mode": {
    "name": "ipython",
    "version": 3
   },
   "file_extension": ".py",
   "mimetype": "text/x-python",
   "name": "python",
   "nbconvert_exporter": "python",
   "pygments_lexer": "ipython3",
   "version": "3.10.0"
  }
 },
 "nbformat": 4,
 "nbformat_minor": 5
}
